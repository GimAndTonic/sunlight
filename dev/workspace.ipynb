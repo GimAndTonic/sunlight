{
 "cells": [
  {
   "cell_type": "code",
   "execution_count": null,
   "metadata": {},
   "outputs": [
    {
     "name": "stdout",
     "output_type": "stream",
     "text": [
      "Latitude: 59.327495, Longitude: 18.054837\n"
     ]
    }
   ],
   "source": [
    "# Import default and local json\n",
    "\n",
    "import json\n",
    "from pathlib import Path\n",
    "\n",
    "def load_coordinates():\n",
    "    default_path = Path(\"../etc/default/coordinates.json\")\n",
    "    local_path = Path(\"../etc/local/coordinates.json\")\n",
    "\n",
    "    # Load default first\n",
    "    with default_path.open() as f:\n",
    "        coords = json.load(f)\n",
    "        \n",
    "    # If local override exists, merge\n",
    "    if local_path.exists():\n",
    "        with local_path.open() as f:\n",
    "            local_coords = json.load(f)\n",
    "        coords.update(local_coords)\n",
    "\n",
    "    return coords\n",
    "\n",
    "if __name__ == \"__main__\":\n",
    "    coords = load_coordinates()\n",
    "    print(f\"Latitude: {coords['latitude']}, Longitude: {coords['longitude']}\")\n"
   ]
  },
  {
   "cell_type": "code",
   "execution_count": null,
   "metadata": {},
   "outputs": [],
   "source": []
  }
 ],
 "metadata": {
  "kernelspec": {
   "display_name": "venv",
   "language": "python",
   "name": "python3"
  },
  "language_info": {
   "codemirror_mode": {
    "name": "ipython",
    "version": 3
   },
   "file_extension": ".py",
   "mimetype": "text/x-python",
   "name": "python",
   "nbconvert_exporter": "python",
   "pygments_lexer": "ipython3",
   "version": "3.13.2"
  }
 },
 "nbformat": 4,
 "nbformat_minor": 2
}
