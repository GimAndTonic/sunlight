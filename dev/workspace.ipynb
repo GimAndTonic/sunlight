{
 "cells": [
  {
   "cell_type": "code",
   "execution_count": 4,
   "metadata": {},
   "outputs": [],
   "source": [
    "from pathlib import Path\n",
    "import sys\n",
    "import os\n",
    "\n",
    "# Add src/ and lib/ to sys.path\n",
    "SUNLIGHT_HOME = Path().resolve().parent\n",
    "sys.path.append(str(SUNLIGHT_HOME / \"src/sunlight_engine\"))\n",
    "sys.path.append(str(SUNLIGHT_HOME / \"src/sunlight_engine/lib\"))\n",
    "#sys.path.append(str(SUNLIGHT_HOME / \"lib\"))\n",
    "\n",
    "os.environ[\"SUNLIGHT_HOME\"] = str(SUNLIGHT_HOME)\n",
    "\n",
    "# DEBUG\n",
    "#for path in sys.path: print(path)\n",
    "#print(os.getenv(\"SUNLIGHT_HOME\"))\n"
   ]
  },
  {
   "cell_type": "code",
   "execution_count": 5,
   "metadata": {},
   "outputs": [],
   "source": [
    "from config_interface import ConfigInterface\n",
    "configInterface = ConfigInterface()\n",
    "configInterface.gen_runtime_config()\n",
    "configInterface.load_runtime_config()\n",
    "#print(configInterface.CONFIG_DIR)"
   ]
  },
  {
   "cell_type": "code",
   "execution_count": 6,
   "metadata": {},
   "outputs": [],
   "source": [
    "from logging_setup import Logger\n",
    "logger = Logger(\"workspaceDEV\")\n",
    "logger.info(\"Started Workspace in Jupyter Notebook /dev/workspace\")"
   ]
  },
  {
   "cell_type": "code",
   "execution_count": null,
   "metadata": {},
   "outputs": [],
   "source": [
    "import astropy.coordinates as coord\n",
    "from astropy.time import Time\n",
    "import astropy.units as u\n",
    "from datetime import datetime\n",
    "import zoneinfo  # or use pytz if < Python 3.9\n"
   ]
  },
  {
   "cell_type": "code",
   "execution_count": null,
   "metadata": {},
   "outputs": [
    {
     "name": "stdout",
     "output_type": "stream",
     "text": [
      "Local time: 2025-05-31 12:08:51.655463+02:00\n",
      "Altitude: 52.08 deg, Azimuth: 166.00 deg\n"
     ]
    }
   ],
   "source": [
    "# Define local time zone (Stockholm)\n",
    "local_tz = zoneinfo.ZoneInfo(\"Europe/Stockholm\")\n",
    "\n",
    "# Get current time in local timezone\n",
    "now_local = datetime.now(local_tz)\n",
    "\n",
    "# Convert to astropy Time (will handle UTC offset correctly)\n",
    "now = Time(now_local)\n",
    "\n",
    "# Location in Stockholm\n",
    "loc = EarthLocation(lat=60.75069 * u.deg, lon=14.85601 * u.deg)\n",
    "\n",
    "# AltAz frame at local time and location\n",
    "altaz = AltAz(location=loc, obstime=now)\n",
    "\n",
    "# Sun position in AltAz\n",
    "sun = get_sun(now)\n",
    "sun_altaz = sun.transform_to(altaz)\n",
    "\n",
    "# Print result\n",
    "print(f\"Local time: {now_local}\")\n",
    "print(f\"Altitude: {sun_altaz.alt:.2f}, Azimuth: {sun_altaz.az:.2f}\")\n"
   ]
  },
  {
   "cell_type": "code",
   "execution_count": 9,
   "metadata": {},
   "outputs": [
    {
     "data": {
      "text/plain": [
       "{'location': {'latitude': 60.75062,\n",
       "  'longitude': 14.857265,\n",
       "  'elevation': 172.81}}"
      ]
     },
     "execution_count": 9,
     "metadata": {},
     "output_type": "execute_result"
    }
   ],
   "source": [
    "configInterface.CONFIG_DIR"
   ]
  },
  {
   "cell_type": "code",
   "execution_count": null,
   "metadata": {},
   "outputs": [],
   "source": []
  }
 ],
 "metadata": {
  "kernelspec": {
   "display_name": "venv",
   "language": "python",
   "name": "python3"
  },
  "language_info": {
   "codemirror_mode": {
    "name": "ipython",
    "version": 3
   },
   "file_extension": ".py",
   "mimetype": "text/x-python",
   "name": "python",
   "nbconvert_exporter": "python",
   "pygments_lexer": "ipython3",
   "version": "3.13.2"
  }
 },
 "nbformat": 4,
 "nbformat_minor": 2
}
