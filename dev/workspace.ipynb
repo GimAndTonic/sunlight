{
 "cells": [
  {
   "cell_type": "code",
   "execution_count": 1,
   "metadata": {},
   "outputs": [],
   "source": [
    "from pathlib import Path\n",
    "import sys\n",
    "import os\n",
    "\n",
    "# Add src/ and lib/ to sys.path\n",
    "SUNLIGHT_HOME = Path().resolve().parent\n",
    "sys.path.append(str(SUNLIGHT_HOME / \"src/sunlight_engine\"))\n",
    "sys.path.append(str(SUNLIGHT_HOME / \"src/sunlight_engine/lib\"))\n",
    "#sys.path.append(str(SUNLIGHT_HOME / \"lib\"))\n",
    "\n",
    "os.environ[\"SUNLIGHT_HOME\"] = str(SUNLIGHT_HOME)\n",
    "\n",
    "# DEBUG\n",
    "#for path in sys.path: print(path)\n",
    "#print(os.getenv(\"SUNLIGHT_HOME\"))\n"
   ]
  },
  {
   "cell_type": "code",
   "execution_count": 2,
   "metadata": {},
   "outputs": [],
   "source": [
    "from config_interface import ConfigInterface\n",
    "configInterface = ConfigInterface()\n",
    "configInterface.gen_runtime_config()\n",
    "configInterface.load_runtime_config()\n",
    "#print(configInterface.CONFIG_DIR)"
   ]
  },
  {
   "cell_type": "code",
   "execution_count": null,
   "metadata": {},
   "outputs": [],
   "source": [
    "from logging_setup import Logger\n",
    "logger = Logger(\"workspaceDEV\")\n",
    "logger.info(\"Started Workspace in Jupyter Notebook /dev/workspace\")"
   ]
  }
 ],
 "metadata": {
  "kernelspec": {
   "display_name": "venv",
   "language": "python",
   "name": "python3"
  },
  "language_info": {
   "codemirror_mode": {
    "name": "ipython",
    "version": 3
   },
   "file_extension": ".py",
   "mimetype": "text/x-python",
   "name": "python",
   "nbconvert_exporter": "python",
   "pygments_lexer": "ipython3",
   "version": "3.13.2"
  }
 },
 "nbformat": 4,
 "nbformat_minor": 2
}
